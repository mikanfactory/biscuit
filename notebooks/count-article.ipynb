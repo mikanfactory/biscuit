{
 "cells": [
  {
   "cell_type": "code",
   "execution_count": 1,
   "metadata": {},
   "outputs": [],
   "source": [
    "import requests"
   ]
  },
  {
   "cell_type": "code",
   "execution_count": 2,
   "metadata": {},
   "outputs": [],
   "source": [
    "with open(\"../pocket_token/pocket_access_token.json\") as f:\n",
    "    access_token = json.load(f)"
   ]
  },
  {
   "cell_type": "code",
   "execution_count": 3,
   "metadata": {},
   "outputs": [],
   "source": [
    "def _post(url, params):\n",
    "    headers = {\n",
    "        'content-type': 'application/json',\n",
    "        'X-Accept': 'application/json'\n",
    "    }\n",
    "    resp = requests.post(url, json=params, headers=headers)\n",
    "\n",
    "    if resp.status_code != 200:\n",
    "        x_err = resp.headers['X-Error']\n",
    "        message = f'Error occured during getting request token. HTTP Status: {resp.status_code}, X-Error: {x_err}'  # NOQA\n",
    "        raise requests.exceptions.HTTPError(message)\n",
    "\n",
    "    return resp.json()"
   ]
  },
  {
   "cell_type": "code",
   "execution_count": 4,
   "metadata": {},
   "outputs": [],
   "source": [
    "params = {\n",
    "    'state': 'all',\n",
    "    'contentType': 'article',\n",
    "    'detailType': 'simple',\n",
    "    'count': 3,\n",
    "    'offset': 3\n",
    "}\n",
    "ret = _post('https://getpocket.com/v3/get', dict(**access_token, **params))"
   ]
  },
  {
   "cell_type": "code",
   "execution_count": 5,
   "metadata": {},
   "outputs": [],
   "source": [
    "acc = []\n",
    "count = 100\n",
    "\n",
    "i = 0\n",
    "while True:\n",
    "    prev_size = len(set(acc))\n",
    "    params['count'] = count\n",
    "    params['offset'] = i*count\n",
    "    ret = _post('https://getpocket.com/v3/get', dict(**access_token, **params))\n",
    "    acc += list(ret['list'].keys())\n",
    "    if len(set(acc)) - prev_size < count:\n",
    "        break \n",
    "    else:\n",
    "        i += 1"
   ]
  },
  {
   "cell_type": "code",
   "execution_count": 6,
   "metadata": {},
   "outputs": [
    {
     "data": {
      "text/plain": [
       "1926"
      ]
     },
     "execution_count": 6,
     "metadata": {},
     "output_type": "execute_result"
    }
   ],
   "source": [
    "len(acc)"
   ]
  },
  {
   "cell_type": "code",
   "execution_count": null,
   "metadata": {},
   "outputs": [],
   "source": []
  }
 ],
 "metadata": {
  "kernelspec": {
   "display_name": "Python 3",
   "language": "python",
   "name": "python3"
  },
  "language_info": {
   "codemirror_mode": {
    "name": "ipython",
    "version": 3
   },
   "file_extension": ".py",
   "mimetype": "text/x-python",
   "name": "python",
   "nbconvert_exporter": "python",
   "pygments_lexer": "ipython3",
   "version": "3.7.1"
  }
 },
 "nbformat": 4,
 "nbformat_minor": 2
}
